{
  "nbformat": 4,
  "nbformat_minor": 0,
  "metadata": {
    "colab": {
      "provenance": []
    },
    "kernelspec": {
      "name": "python3",
      "display_name": "Python 3"
    },
    "language_info": {
      "name": "python"
    }
  },
  "cells": [
    {
      "cell_type": "code",
      "execution_count": 11,
      "metadata": {
        "id": "w45RZttrB32J"
      },
      "outputs": [],
      "source": [
        "#a.Импортируйте библиотеку NumPy\n",
        "import numpy as np"
      ]
    },
    {
      "cell_type": "code",
      "source": [
        "#b.Создайте массив из 10 нулей\n",
        "\n",
        "a = np.zeros(10)\n",
        "print(a)"
      ],
      "metadata": {
        "colab": {
          "base_uri": "https://localhost:8080/"
        },
        "id": "8z4dobWoDeJF",
        "outputId": "f1771ded-379f-4166-f45d-dfa7c086ffba"
      },
      "execution_count": 3,
      "outputs": [
        {
          "output_type": "stream",
          "name": "stdout",
          "text": [
            "[0. 0. 0. 0. 0. 0. 0. 0. 0. 0.]\n"
          ]
        }
      ]
    },
    {
      "cell_type": "code",
      "source": [
        "#c.Создать массив из 10 единиц\n",
        "\n",
        "b = np.ones((1, 10), dtype='int')\n",
        "print(b)"
      ],
      "metadata": {
        "colab": {
          "base_uri": "https://localhost:8080/"
        },
        "id": "BSpVZeHqFt0l",
        "outputId": "effd8c98-01af-44be-b55e-9ca298b19158"
      },
      "execution_count": null,
      "outputs": [
        {
          "output_type": "stream",
          "name": "stdout",
          "text": [
            "[[1 1 1 1 1 1 1 1 1 1]]\n"
          ]
        }
      ]
    },
    {
      "cell_type": "code",
      "source": [
        "#d.Создать массив из 10 пятерок\n",
        "\n",
        "c = np.full((1,10), 5)\n",
        "print(c)"
      ],
      "metadata": {
        "colab": {
          "base_uri": "https://localhost:8080/"
        },
        "id": "FMYwzwbfhM45",
        "outputId": "c6c95b20-f7c3-4448-8172-1cf877bbd651"
      },
      "execution_count": null,
      "outputs": [
        {
          "output_type": "stream",
          "name": "stdout",
          "text": [
            "[[5 5 5 5 5 5 5 5 5 5]]\n"
          ]
        }
      ]
    },
    {
      "cell_type": "code",
      "source": [
        "#e.Создать массив из целых чисел от 10 до 50\n",
        "\n",
        "d = np.arange(10,51)\n",
        "print(d)"
      ],
      "metadata": {
        "colab": {
          "base_uri": "https://localhost:8080/"
        },
        "id": "tiJW3x66wq0l",
        "outputId": "432e461d-c23e-4e8b-d04d-d10319dfdd01"
      },
      "execution_count": 7,
      "outputs": [
        {
          "output_type": "stream",
          "name": "stdout",
          "text": [
            "[10 11 12 13 14 15 16 17 18 19 20 21 22 23 24 25 26 27 28 29 30 31 32 33\n",
            " 34 35 36 37 38 39 40 41 42 43 44 45 46 47 48 49 50]\n"
          ]
        }
      ]
    },
    {
      "cell_type": "code",
      "source": [
        "#f.Создать массив из четных чисел от 10 до 50\n",
        "\n",
        "e = np.arange(10,51,2)\n",
        "print(e)"
      ],
      "metadata": {
        "colab": {
          "base_uri": "https://localhost:8080/"
        },
        "id": "QxGoYAVv0Lel",
        "outputId": "dfa8bf2a-2ed0-4c4d-a7a5-8375785e2d2d"
      },
      "execution_count": 8,
      "outputs": [
        {
          "output_type": "stream",
          "name": "stdout",
          "text": [
            "[10 12 14 16 18 20 22 24 26 28 30 32 34 36 38 40 42 44 46 48 50]\n"
          ]
        }
      ]
    },
    {
      "cell_type": "code",
      "source": [
        "#g.Создать матрицу 3х3 с числами от 0 до 8\n",
        "\n",
        "f = np.array ([[0,1,2], [3,4,5], [6,7,8]])\n",
        "print (f)"
      ],
      "metadata": {
        "colab": {
          "base_uri": "https://localhost:8080/"
        },
        "id": "xdIdJfE50ZjV",
        "outputId": "9f470438-0b9d-48ca-a353-bc8cd7ae0410"
      },
      "execution_count": 9,
      "outputs": [
        {
          "output_type": "stream",
          "name": "stdout",
          "text": [
            "[[0 1 2]\n",
            " [3 4 5]\n",
            " [6 7 8]]\n"
          ]
        }
      ]
    },
    {
      "cell_type": "code",
      "source": [
        "#h.Создать единичную матрицу 3x3\n",
        "\n",
        "e = np.ones((3, 3), dtype='int')\n",
        "print(e)"
      ],
      "metadata": {
        "colab": {
          "base_uri": "https://localhost:8080/"
        },
        "id": "opmt8yNGOM9y",
        "outputId": "6bade410-05fb-4115-fbbe-be56e034e5db"
      },
      "execution_count": 13,
      "outputs": [
        {
          "output_type": "stream",
          "name": "stdout",
          "text": [
            "[[1 1 1]\n",
            " [1 1 1]\n",
            " [1 1 1]]\n"
          ]
        }
      ]
    },
    {
      "cell_type": "code",
      "source": [
        "#i.Используйте NumPy для генерации случайного числа от 0 до 1\n",
        "\n",
        "f = np.random.rand ()\n",
        "print(f)"
      ],
      "metadata": {
        "colab": {
          "base_uri": "https://localhost:8080/"
        },
        "id": "DrBUcFoROzRY",
        "outputId": "e7554c93-a0e8-46d5-8b7b-2eb9c373f719"
      },
      "execution_count": 16,
      "outputs": [
        {
          "output_type": "stream",
          "name": "stdout",
          "text": [
            "0.21965822472771257\n"
          ]
        }
      ]
    },
    {
      "cell_type": "code",
      "source": [
        "#j.Используйте NumPy для генерации массива из 25 случайных чисел,взятых из стандартного нормального распределения\n",
        "\n",
        "g = np.random.randn (1,25)\n",
        "print(g)"
      ],
      "metadata": {
        "colab": {
          "base_uri": "https://localhost:8080/"
        },
        "id": "G7u7z1C-P21g",
        "outputId": "05181b68-9434-4e58-8481-452c2c8e1d2c"
      },
      "execution_count": 18,
      "outputs": [
        {
          "output_type": "stream",
          "name": "stdout",
          "text": [
            "[[-1.12904668e+00  3.94725159e-01  3.20727681e-01 -6.09111073e-01\n",
            "  -7.14024022e-04  5.33472646e-01  7.20909655e-01 -7.27476090e-01\n",
            "   1.08902912e-01 -5.59327692e-01  7.73990940e-01  1.70821771e-02\n",
            "   1.97572977e-01  2.24831699e-01  2.78291903e-01  1.83842527e+00\n",
            "  -3.51896858e-01 -5.25957316e-01  6.33414072e-01  9.38077863e-01\n",
            "  -3.42075659e-03 -3.40394651e-01  2.79240288e-01 -1.73595304e+00\n",
            "   1.13440491e+00]]\n"
          ]
        }
      ]
    },
    {
      "cell_type": "code",
      "source": [
        "#k.Создайте следующую матрицу используя функции библиотеки NumPy\n",
        "\n",
        "h = np.arange(0.01,1.01,0.01)\n",
        "h = h.reshape(10,10)\n",
        "print (h)"
      ],
      "metadata": {
        "colab": {
          "base_uri": "https://localhost:8080/"
        },
        "id": "Io76tD8boGWy",
        "outputId": "bf938698-78eb-4b6f-de83-1cc6c2b9d469"
      },
      "execution_count": 60,
      "outputs": [
        {
          "output_type": "stream",
          "name": "stdout",
          "text": [
            "[[0.01 0.02 0.03 0.04 0.05 0.06 0.07 0.08 0.09 0.1 ]\n",
            " [0.11 0.12 0.13 0.14 0.15 0.16 0.17 0.18 0.19 0.2 ]\n",
            " [0.21 0.22 0.23 0.24 0.25 0.26 0.27 0.28 0.29 0.3 ]\n",
            " [0.31 0.32 0.33 0.34 0.35 0.36 0.37 0.38 0.39 0.4 ]\n",
            " [0.41 0.42 0.43 0.44 0.45 0.46 0.47 0.48 0.49 0.5 ]\n",
            " [0.51 0.52 0.53 0.54 0.55 0.56 0.57 0.58 0.59 0.6 ]\n",
            " [0.61 0.62 0.63 0.64 0.65 0.66 0.67 0.68 0.69 0.7 ]\n",
            " [0.71 0.72 0.73 0.74 0.75 0.76 0.77 0.78 0.79 0.8 ]\n",
            " [0.81 0.82 0.83 0.84 0.85 0.86 0.87 0.88 0.89 0.9 ]\n",
            " [0.91 0.92 0.93 0.94 0.95 0.96 0.97 0.98 0.99 1.  ]]\n"
          ]
        }
      ]
    },
    {
      "cell_type": "code",
      "source": [
        "# это наша стартовая матрица\n",
        "\n",
        "mat = np.arange(1,26).reshape(5,5)\n",
        "print(mat)"
      ],
      "metadata": {
        "colab": {
          "base_uri": "https://localhost:8080/"
        },
        "id": "ecj3HQqzSb1r",
        "outputId": "ac2e1018-e40f-443c-e821-b327df9eed62"
      },
      "execution_count": 24,
      "outputs": [
        {
          "output_type": "stream",
          "name": "stdout",
          "text": [
            "[[ 1  2  3  4  5]\n",
            " [ 6  7  8  9 10]\n",
            " [11 12 13 14 15]\n",
            " [16 17 18 19 20]\n",
            " [21 22 23 24 25]]\n"
          ]
        }
      ]
    },
    {
      "cell_type": "code",
      "source": [
        "# l.Необходимо написать код который вернет следующую матрицу из стартовой\n",
        "\n",
        "mat = np.arange(1,26).reshape(5,5)\n",
        "i = mat[2:,1:]\n",
        "print(i)"
      ],
      "metadata": {
        "colab": {
          "base_uri": "https://localhost:8080/"
        },
        "id": "ruqVQjWDSx_T",
        "outputId": "d55b8b2e-7adf-4882-e4cb-40572397bf7c"
      },
      "execution_count": 66,
      "outputs": [
        {
          "output_type": "stream",
          "name": "stdout",
          "text": [
            "[[12 13 14 15]\n",
            " [17 18 19 20]\n",
            " [22 23 24 25]]\n"
          ]
        }
      ]
    },
    {
      "cell_type": "code",
      "source": [
        "#m.Написать код обращения к элементу который вернет значение  20 изстартовой матрицы задачи l\n",
        "\n",
        "mat = np.arange(1,26).reshape(5,5)\n",
        "print(mat[3,4])"
      ],
      "metadata": {
        "colab": {
          "base_uri": "https://localhost:8080/"
        },
        "id": "a2vrG9C0S7qP",
        "outputId": "47c67da5-3efa-4f2a-b5e7-da0537c421f4"
      },
      "execution_count": 68,
      "outputs": [
        {
          "output_type": "stream",
          "name": "stdout",
          "text": [
            "20\n"
          ]
        }
      ]
    },
    {
      "cell_type": "code",
      "source": [
        "#n.Написать код к стартовой матрице задачи l , который воспроизводит вывод, показанный ниже\n",
        "\n",
        "mat = np.arange(1,26).reshape(5,5)\n",
        "j = mat[0:3,1]\n",
        "k = j.reshape(3,1)\n",
        "\n",
        "print(k)\n"
      ],
      "metadata": {
        "colab": {
          "base_uri": "https://localhost:8080/"
        },
        "id": "CteDDhTqTAdb",
        "outputId": "5c443671-ecea-4d89-9d01-d14785bc6279"
      },
      "execution_count": 72,
      "outputs": [
        {
          "output_type": "stream",
          "name": "stdout",
          "text": [
            "[[ 2]\n",
            " [ 7]\n",
            " [12]]\n"
          ]
        }
      ]
    },
    {
      "cell_type": "code",
      "source": [
        "#o.Написать код к стартовой матрице задачи l , который воспроизводит вывод, показанный ниже\n",
        "\n",
        "mat = np.arange(1,26).reshape(5,5)\n",
        "l = mat[4:,0:]\n",
        "\n",
        "print(l)\n"
      ],
      "metadata": {
        "colab": {
          "base_uri": "https://localhost:8080/"
        },
        "id": "nr966RU5TFve",
        "outputId": "4bc0d4c3-93f6-4771-c7d7-be6319878a97"
      },
      "execution_count": 74,
      "outputs": [
        {
          "output_type": "stream",
          "name": "stdout",
          "text": [
            "[[21 22 23 24 25]]\n"
          ]
        }
      ]
    },
    {
      "cell_type": "code",
      "source": [
        "#p.Написать код к стартовой матрице задачи l , который воспроизводит вывод, показанный ниже\n",
        "\n",
        "mat = np.arange(1,26).reshape(5,5)\n",
        "m = mat[3:,0:]\n",
        "\n",
        "print(m)\n"
      ],
      "metadata": {
        "colab": {
          "base_uri": "https://localhost:8080/"
        },
        "id": "6_AYb5JPTNMH",
        "outputId": "403bef0f-8432-4338-9787-d71f02979d79"
      },
      "execution_count": 75,
      "outputs": [
        {
          "output_type": "stream",
          "name": "stdout",
          "text": [
            "[[16 17 18 19 20]\n",
            " [21 22 23 24 25]]\n"
          ]
        }
      ]
    },
    {
      "cell_type": "code",
      "source": [
        "#q.Получить сумму всех значений в стартовой матрице mat\n",
        "\n",
        "mat = np.arange(1,26).reshape(5,5)\n",
        "print(mat.sum())"
      ],
      "metadata": {
        "colab": {
          "base_uri": "https://localhost:8080/"
        },
        "id": "RD4pI7YtTRM3",
        "outputId": "6a649abc-a8de-4c6f-e966-abc7542f97d5"
      },
      "execution_count": 76,
      "outputs": [
        {
          "output_type": "stream",
          "name": "stdout",
          "text": [
            "325\n"
          ]
        }
      ]
    },
    {
      "cell_type": "code",
      "source": [
        "#r.Получить стандартное отклонение в стартовой матрице mat\n",
        "\n",
        "mat = np.arange(1,26).reshape(5,5)\n",
        "print(mat.std())"
      ],
      "metadata": {
        "colab": {
          "base_uri": "https://localhost:8080/"
        },
        "id": "z7Q9QC3VTTSD",
        "outputId": "4b459be6-d99a-4610-bffd-2b9666be279d"
      },
      "execution_count": 80,
      "outputs": [
        {
          "output_type": "stream",
          "name": "stdout",
          "text": [
            "7.211102550927978\n"
          ]
        }
      ]
    },
    {
      "cell_type": "code",
      "source": [
        "#s.Получить сумму значений в колонках в стартовой матрице mat\n",
        "\n",
        "mat = np.arange(1,26).reshape(5,5)\n",
        "print(mat.sum(axis=1))"
      ],
      "metadata": {
        "colab": {
          "base_uri": "https://localhost:8080/"
        },
        "id": "53H3eAIATYjb",
        "outputId": "41e00eba-8cb0-44f4-f0cc-106377875cbe"
      },
      "execution_count": 79,
      "outputs": [
        {
          "output_type": "stream",
          "name": "stdout",
          "text": [
            "[ 15  40  65  90 115]\n"
          ]
        }
      ]
    }
  ]
}